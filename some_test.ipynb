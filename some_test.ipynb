{
 "cells": [
  {
   "cell_type": "code",
   "execution_count": 29,
   "metadata": {},
   "outputs": [
    {
     "name": "stdout",
     "output_type": "stream",
     "text": [
      "1\n"
     ]
    }
   ],
   "source": [
    "import re\n",
    "mypat=\"aa\"\n",
    "a=[\"AA\",\"ccaa \",\" asd aa\",\"bb\"]\n",
    "try:\n",
    "    i=a.index(next(filter(re.compile(mypat).search,a)))\n",
    "except StopIteration:\n",
    "    i=None\n",
    "print(i)\n"
   ]
  },
  {
   "cell_type": "code",
   "execution_count": 33,
   "metadata": {},
   "outputs": [
    {
     "data": {
      "text/plain": [
       "1"
      ]
     },
     "execution_count": 33,
     "metadata": {},
     "output_type": "execute_result"
    }
   ],
   "source": [
    "def FindFirst(pat,lst,flag=0):  #找到字符串数组lst中第一次正则匹配到pat的索引位置\n",
    "    try:\n",
    "        i=lst.index(next(filter(re.compile(pat,flags=flag).search,lst)))\n",
    "    except StopIteration: # 一个也没找到\n",
    "        i=None\n",
    "    return i\n",
    "\n",
    "FindFirst(mypat,a,flag=0)"
   ]
  },
  {
   "cell_type": "code",
   "execution_count": 40,
   "metadata": {},
   "outputs": [
    {
     "data": {
      "text/plain": [
       "['AA', 'ccaa ', ' asd aa', 'bb', 'cc', 'dd']"
      ]
     },
     "execution_count": 40,
     "metadata": {},
     "output_type": "execute_result"
    }
   ],
   "source": [
    "a=[\"AA\",\"ccaa \",\" asd aa\",\"bb\"]\n",
    "b=[\"cc\",\"dd\"]\n",
    "a+b"
   ]
  },
  {
   "cell_type": "code",
   "execution_count": 62,
   "metadata": {},
   "outputs": [
    {
     "name": "stdout",
     "output_type": "stream",
     "text": [
      "125 \n",
      " Broken flux surfaces due to a single island chain showing separatrix S, X-point and O-point.\n"
     ]
    }
   ],
   "source": [
    "line=\"Fig 125 Broken flux surfaces due to a single island chain showing separatrix S, X-point and O-point.\"\n",
    "mo1=re.search(r'fig(?:ure)?\\.? ?((?:\\d+)\\.?(?:\\d+)?) ?(.*)',line,flags=re.IGNORECASE)\n",
    "num=mo1.group(1)\n",
    "cap=mo1.group(2)\n",
    "# mo2=re.search(r'fig\\.? ?(\\d\\.?\\d?)',line,flags=re.IGNORECASE)\n",
    "print(num,'\\n',cap)"
   ]
  },
  {
   "cell_type": "code",
   "execution_count": 77,
   "metadata": {},
   "outputs": [
    {
     "name": "stdout",
     "output_type": "stream",
     "text": [
      "Toroidal and poloidal surfaces defining flux $\\psi$ and $\\psi_{p}$.\n",
      "\n",
      "caption\\1{Toroidal and poloidal surfaces defining flux $\\\\psi$ and $\\\\psi_{p}$}\\2\n"
     ]
    },
    {
     "data": {
      "text/plain": [
       "'\\t\\\\caption{Toroidal and poloidal surfaces defining flux $\\\\psi$ and $\\\\psi_{p}$}\\n'"
      ]
     },
     "execution_count": 77,
     "metadata": {},
     "output_type": "execute_result"
    }
   ],
   "source": [
    "st='caption'\n",
    "content='Toroidal and poloidal surfaces defining flux $\\\\psi$ and $\\\\psi_{p}$.'\n",
    "print(content)\n",
    "line='\\t\\\\caption{}\\n'\n",
    "mo=re.search(st+'(.*){}(.*)',line)\n",
    "print(mo.group(1))\n",
    "tosub=st+r'\\1{'+repr(content)[1:-2]+r'}\\2'\n",
    "print(tosub)\n",
    "re.sub(st+'(.*){}(.*)',tosub,line)"
   ]
  },
  {
   "cell_type": "code",
   "execution_count": 89,
   "metadata": {},
   "outputs": [
    {
     "name": "stdout",
     "output_type": "stream",
     "text": [
      "1\n"
     ]
    }
   ],
   "source": [
    "line=r\"\\author{1}\"\n",
    "aths_raw=re.search(r'\\\\author{(.*)',line).group(1).replace(\"}\",\"\")\n",
    "print(aths_raw)"
   ]
  },
  {
   "cell_type": "code",
   "execution_count": 86,
   "metadata": {},
   "outputs": [
    {
     "name": "stdout",
     "output_type": "stream",
     "text": [
      "['__add__', '__class__', '__contains__', '__delattr__', '__dir__', '__doc__', '__eq__', '__format__', '__ge__', '__getattribute__', '__getitem__', '__getnewargs__', '__getstate__', '__gt__', '__hash__', '__init__', '__init_subclass__', '__iter__', '__le__', '__len__', '__lt__', '__mod__', '__mul__', '__ne__', '__new__', '__reduce__', '__reduce_ex__', '__repr__', '__rmod__', '__rmul__', '__setattr__', '__sizeof__', '__str__', '__subclasshook__', 'capitalize', 'casefold', 'center', 'count', 'encode', 'endswith', 'expandtabs', 'find', 'format', 'format_map', 'index', 'isalnum', 'isalpha', 'isascii', 'isdecimal', 'isdigit', 'isidentifier', 'islower', 'isnumeric', 'isprintable', 'isspace', 'istitle', 'isupper', 'join', 'ljust', 'lower', 'lstrip', 'maketrans', 'partition', 'removeprefix', 'removesuffix', 'replace', 'rfind', 'rindex', 'rjust', 'rpartition', 'rsplit', 'rstrip', 'split', 'splitlines', 'startswith', 'strip', 'swapcase', 'title', 'translate', 'upper', 'zfill']\n"
     ]
    }
   ],
   "source": [
    "print(dir(\"\"))"
   ]
  }
 ],
 "metadata": {
  "kernelspec": {
   "display_name": "base",
   "language": "python",
   "name": "python3"
  },
  "language_info": {
   "codemirror_mode": {
    "name": "ipython",
    "version": 3
   },
   "file_extension": ".py",
   "mimetype": "text/x-python",
   "name": "python",
   "nbconvert_exporter": "python",
   "pygments_lexer": "ipython3",
   "version": "3.11.4"
  },
  "orig_nbformat": 4
 },
 "nbformat": 4,
 "nbformat_minor": 2
}
